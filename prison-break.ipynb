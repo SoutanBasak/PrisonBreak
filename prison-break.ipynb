{
 "cells": [
  {
   "cell_type": "markdown",
   "id": "71de766a",
   "metadata": {
    "papermill": {
     "duration": 0.017422,
     "end_time": "2022-01-19T21:13:15.669441",
     "exception": false,
     "start_time": "2022-01-19T21:13:15.652019",
     "status": "completed"
    },
    "tags": []
   },
   "source": [
    "# My First Data Science Project"
   ]
  },
  {
   "cell_type": "code",
   "execution_count": 1,
   "id": "78ab48db",
   "metadata": {
    "execution": {
     "iopub.execute_input": "2022-01-19T21:13:15.711314Z",
     "iopub.status.busy": "2022-01-19T21:13:15.710622Z",
     "iopub.status.idle": "2022-01-19T21:13:15.726863Z",
     "shell.execute_reply": "2022-01-19T21:13:15.725926Z",
     "shell.execute_reply.started": "2022-01-19T20:52:10.138605Z"
    },
    "papermill": {
     "duration": 0.041076,
     "end_time": "2022-01-19T21:13:15.727091",
     "exception": false,
     "start_time": "2022-01-19T21:13:15.686015",
     "status": "completed"
    },
    "tags": []
   },
   "outputs": [
    {
     "name": "stdout",
     "output_type": "stream",
     "text": [
      "/kaggle/input/little-help/helper.py\n"
     ]
    }
   ],
   "source": [
    "# This Python 3 environment comes with many helpful analytics libraries installed\n",
    "# It is defined by the kaggle/python Docker image: https://github.com/kaggle/docker-python\n",
    "# For example, here's several helpful packages to load\n",
    "\n",
    "import numpy as np # linear algebra\n",
    "import pandas as pd # data processing, CSV file I/O (e.g. pd.read_csv)\n",
    "\n",
    "# Input data files are available in the read-only \"../input/\" directory\n",
    "# For example, running this (by clicking run or pressing Shift+Enter) will list all files under the input directory\n",
    "\n",
    "import os\n",
    "for dirname, _, filenames in os.walk('/kaggle/input'):\n",
    "    for filename in filenames:\n",
    "        print(os.path.join(dirname, filename))\n",
    "\n",
    "# You can write up to 20GB to the current directory (/kaggle/working/) that gets preserved as output when you create a version using \"Save & Run All\" \n",
    "# You can also write temporary files to /kaggle/temp/, but they won't be saved outside of the current session"
   ]
  },
  {
   "cell_type": "markdown",
   "id": "70903b39",
   "metadata": {
    "papermill": {
     "duration": 0.015998,
     "end_time": "2022-01-19T21:13:15.760640",
     "exception": false,
     "start_time": "2022-01-19T21:13:15.744642",
     "status": "completed"
    },
    "tags": []
   },
   "source": [
    "## Helicopter Escapes!"
   ]
  },
  {
   "cell_type": "markdown",
   "id": "01fea57b",
   "metadata": {
    "papermill": {
     "duration": 0.015974,
     "end_time": "2022-01-19T21:13:15.792924",
     "exception": false,
     "start_time": "2022-01-19T21:13:15.776950",
     "status": "completed"
    },
    "tags": []
   },
   "source": [
    "We begin by importing some helper functions"
   ]
  },
  {
   "cell_type": "code",
   "execution_count": 2,
   "id": "2adb431e",
   "metadata": {
    "execution": {
     "iopub.execute_input": "2022-01-19T21:13:15.828763Z",
     "iopub.status.busy": "2022-01-19T21:13:15.828067Z",
     "iopub.status.idle": "2022-01-19T21:13:17.060972Z",
     "shell.execute_reply": "2022-01-19T21:13:17.060394Z",
     "shell.execute_reply.started": "2022-01-19T20:58:11.249965Z"
    },
    "papermill": {
     "duration": 1.251948,
     "end_time": "2022-01-19T21:13:17.061133",
     "exception": false,
     "start_time": "2022-01-19T21:13:15.809185",
     "status": "completed"
    },
    "tags": []
   },
   "outputs": [],
   "source": [
    "# import module we'll need to import our custom module\n",
    "from shutil import copyfile\n",
    "\n",
    "# copy our file into the working directory (make sure it has .py suffix)\n",
    "copyfile(src = \"../input/little-help/helper.py\", dst = \"../working/helper.py\")\n",
    "\n",
    "# import all our functions\n",
    "from helper import *"
   ]
  },
  {
   "cell_type": "markdown",
   "id": "735f2869",
   "metadata": {
    "papermill": {
     "duration": 0.016523,
     "end_time": "2022-01-19T21:13:17.094023",
     "exception": false,
     "start_time": "2022-01-19T21:13:17.077500",
     "status": "completed"
    },
    "tags": []
   },
   "source": [
    "## Get the Data"
   ]
  },
  {
   "cell_type": "markdown",
   "id": "958cceda",
   "metadata": {
    "papermill": {
     "duration": 0.016105,
     "end_time": "2022-01-19T21:13:17.126628",
     "exception": false,
     "start_time": "2022-01-19T21:13:17.110523",
     "status": "completed"
    },
    "tags": []
   },
   "source": [
    "Now, let's get the data from the [List of helicopter prison escapes](https://en.wikipedia.org/wiki/List_of_helicopter_prison_escapes) Wikipedia article."
   ]
  },
  {
   "cell_type": "code",
   "execution_count": 3,
   "id": "b8a99009",
   "metadata": {
    "execution": {
     "iopub.execute_input": "2022-01-19T21:13:17.162483Z",
     "iopub.status.busy": "2022-01-19T21:13:17.161822Z",
     "iopub.status.idle": "2022-01-19T21:13:17.896210Z",
     "shell.execute_reply": "2022-01-19T21:13:17.894829Z",
     "shell.execute_reply.started": "2022-01-19T20:58:20.890661Z"
    },
    "papermill": {
     "duration": 0.753437,
     "end_time": "2022-01-19T21:13:17.896392",
     "exception": false,
     "start_time": "2022-01-19T21:13:17.142955",
     "status": "completed"
    },
    "tags": []
   },
   "outputs": [],
   "source": [
    "url=\"https://en.wikipedia.org/wiki/List_of_helicopter_prison_escapes\"\n",
    "data=data_from_url(url)"
   ]
  },
  {
   "cell_type": "markdown",
   "id": "621f919d",
   "metadata": {
    "papermill": {
     "duration": 0.01609,
     "end_time": "2022-01-19T21:13:17.928952",
     "exception": false,
     "start_time": "2022-01-19T21:13:17.912862",
     "status": "completed"
    },
    "tags": []
   },
   "source": [
    "Let's print the first three rows"
   ]
  },
  {
   "cell_type": "code",
   "execution_count": 4,
   "id": "a9577bbd",
   "metadata": {
    "execution": {
     "iopub.execute_input": "2022-01-19T21:13:17.968057Z",
     "iopub.status.busy": "2022-01-19T21:13:17.967280Z",
     "iopub.status.idle": "2022-01-19T21:13:17.970724Z",
     "shell.execute_reply": "2022-01-19T21:13:17.971448Z",
     "shell.execute_reply.started": "2022-01-19T20:58:30.085880Z"
    },
    "papermill": {
     "duration": 0.026367,
     "end_time": "2022-01-19T21:13:17.971673",
     "exception": false,
     "start_time": "2022-01-19T21:13:17.945306",
     "status": "completed"
    },
    "tags": []
   },
   "outputs": [
    {
     "name": "stdout",
     "output_type": "stream",
     "text": [
      "['August 19, 1971', 'Santa Martha Acatitla', 'Mexico', 'Yes', 'Joel David Kaplan Carlos Antonio Contreras Castro']\n",
      "['October 31, 1973', 'Mountjoy Jail', 'Ireland', 'Yes', \"JB O'Hagan Seamus TwomeyKevin Mallon\"]\n",
      "['May 24, 1978', 'United States Penitentiary, Marion', 'United States', 'No', 'Garrett Brock TrapnellMartin Joseph McNallyJames Kenneth Johnson']\n"
     ]
    }
   ],
   "source": [
    "index=0\n",
    "for row in data[:3]:\n",
    "    print(row[0:5])\n",
    "    index+=1"
   ]
  },
  {
   "cell_type": "markdown",
   "id": "f6ad16ef",
   "metadata": {
    "papermill": {
     "duration": 0.016353,
     "end_time": "2022-01-19T21:13:18.006813",
     "exception": false,
     "start_time": "2022-01-19T21:13:17.990460",
     "status": "completed"
    },
    "tags": []
   },
   "source": [
    "Fetching all the years"
   ]
  },
  {
   "cell_type": "code",
   "execution_count": 5,
   "id": "2d8c4025",
   "metadata": {
    "execution": {
     "iopub.execute_input": "2022-01-19T21:13:18.047341Z",
     "iopub.status.busy": "2022-01-19T21:13:18.046575Z",
     "iopub.status.idle": "2022-01-19T21:13:18.050193Z",
     "shell.execute_reply": "2022-01-19T21:13:18.049482Z",
     "shell.execute_reply.started": "2022-01-19T20:58:39.016111Z"
    },
    "papermill": {
     "duration": 0.025718,
     "end_time": "2022-01-19T21:13:18.050352",
     "exception": false,
     "start_time": "2022-01-19T21:13:18.024634",
     "status": "completed"
    },
    "tags": []
   },
   "outputs": [],
   "source": [
    "for row in data:\n",
    "    row[0]=fetch_year(row[0])"
   ]
  },
  {
   "cell_type": "markdown",
   "id": "760f6066",
   "metadata": {
    "papermill": {
     "duration": 0.017076,
     "end_time": "2022-01-19T21:13:18.084284",
     "exception": false,
     "start_time": "2022-01-19T21:13:18.067208",
     "status": "completed"
    },
    "tags": []
   },
   "source": [
    "Creating max & min point"
   ]
  },
  {
   "cell_type": "code",
   "execution_count": 6,
   "id": "d98f6ac5",
   "metadata": {
    "execution": {
     "iopub.execute_input": "2022-01-19T21:13:18.124316Z",
     "iopub.status.busy": "2022-01-19T21:13:18.123524Z",
     "iopub.status.idle": "2022-01-19T21:13:18.126675Z",
     "shell.execute_reply": "2022-01-19T21:13:18.126027Z",
     "shell.execute_reply.started": "2022-01-19T20:58:43.490351Z"
    },
    "papermill": {
     "duration": 0.025529,
     "end_time": "2022-01-19T21:13:18.126851",
     "exception": false,
     "start_time": "2022-01-19T21:13:18.101322",
     "status": "completed"
    },
    "tags": []
   },
   "outputs": [],
   "source": [
    "min_year = min(data, key=lambda x: x[0])[0]\n",
    "max_year = max(data, key=lambda x: x[0])[0]"
   ]
  },
  {
   "cell_type": "markdown",
   "id": "b99af993",
   "metadata": {
    "papermill": {
     "duration": 0.016597,
     "end_time": "2022-01-19T21:13:18.160176",
     "exception": false,
     "start_time": "2022-01-19T21:13:18.143579",
     "status": "completed"
    },
    "tags": []
   },
   "source": [
    "making a list"
   ]
  },
  {
   "cell_type": "code",
   "execution_count": 7,
   "id": "bf20b3c7",
   "metadata": {
    "execution": {
     "iopub.execute_input": "2022-01-19T21:13:18.199956Z",
     "iopub.status.busy": "2022-01-19T21:13:18.199220Z",
     "iopub.status.idle": "2022-01-19T21:13:18.202053Z",
     "shell.execute_reply": "2022-01-19T21:13:18.202501Z",
     "shell.execute_reply.started": "2022-01-19T20:58:47.248068Z"
    },
    "papermill": {
     "duration": 0.025508,
     "end_time": "2022-01-19T21:13:18.202679",
     "exception": false,
     "start_time": "2022-01-19T21:13:18.177171",
     "status": "completed"
    },
    "tags": []
   },
   "outputs": [],
   "source": [
    "years = []\n",
    "\n",
    "for y in range(min_year, max_year + 1):\n",
    "    years.append(y)"
   ]
  },
  {
   "cell_type": "markdown",
   "id": "8b8b8247",
   "metadata": {
    "papermill": {
     "duration": 0.016362,
     "end_time": "2022-01-19T21:13:18.236008",
     "exception": false,
     "start_time": "2022-01-19T21:13:18.219646",
     "status": "completed"
    },
    "tags": []
   },
   "source": [
    "counting yearwise"
   ]
  },
  {
   "cell_type": "code",
   "execution_count": 8,
   "id": "7e4e76dc",
   "metadata": {
    "execution": {
     "iopub.execute_input": "2022-01-19T21:13:18.275460Z",
     "iopub.status.busy": "2022-01-19T21:13:18.274620Z",
     "iopub.status.idle": "2022-01-19T21:13:18.278649Z",
     "shell.execute_reply": "2022-01-19T21:13:18.277903Z",
     "shell.execute_reply.started": "2022-01-19T20:58:52.325158Z"
    },
    "papermill": {
     "duration": 0.026149,
     "end_time": "2022-01-19T21:13:18.278866",
     "exception": false,
     "start_time": "2022-01-19T21:13:18.252717",
     "status": "completed"
    },
    "tags": []
   },
   "outputs": [
    {
     "name": "stdout",
     "output_type": "stream",
     "text": [
      "[[1971, 0], [1972, 0], [1973, 0], [1974, 0], [1975, 0], [1976, 0], [1977, 0], [1978, 0], [1979, 0], [1980, 0], [1981, 0], [1982, 0], [1983, 0], [1984, 0], [1985, 0], [1986, 0], [1987, 0], [1988, 0], [1989, 0], [1990, 0], [1991, 0], [1992, 0], [1993, 0], [1994, 0], [1995, 0], [1996, 0], [1997, 0], [1998, 0], [1999, 0], [2000, 0], [2001, 0], [2002, 0], [2003, 0], [2004, 0], [2005, 0], [2006, 0], [2007, 0], [2008, 0], [2009, 0], [2010, 0], [2011, 0], [2012, 0], [2013, 0], [2014, 0], [2015, 0], [2016, 0], [2017, 0], [2018, 0], [2019, 0], [2020, 0]]\n"
     ]
    }
   ],
   "source": [
    "attempts_per_year=[]\n",
    "for row in years:\n",
    "    attempts_per_year.append([row,0])\n",
    "\n",
    "print(attempts_per_year)"
   ]
  },
  {
   "cell_type": "code",
   "execution_count": 9,
   "id": "0d7f2712",
   "metadata": {
    "execution": {
     "iopub.execute_input": "2022-01-19T21:13:18.322337Z",
     "iopub.status.busy": "2022-01-19T21:13:18.321530Z",
     "iopub.status.idle": "2022-01-19T21:13:18.325296Z",
     "shell.execute_reply": "2022-01-19T21:13:18.324728Z",
     "shell.execute_reply.started": "2022-01-19T20:58:56.929415Z"
    },
    "papermill": {
     "duration": 0.028148,
     "end_time": "2022-01-19T21:13:18.325440",
     "exception": false,
     "start_time": "2022-01-19T21:13:18.297292",
     "status": "completed"
    },
    "tags": []
   },
   "outputs": [
    {
     "name": "stdout",
     "output_type": "stream",
     "text": [
      "[[1971, 1], [1972, 0], [1973, 1], [1974, 0], [1975, 0], [1976, 0], [1977, 0], [1978, 1], [1979, 0], [1980, 0], [1981, 2], [1982, 0], [1983, 1], [1984, 0], [1985, 2], [1986, 3], [1987, 1], [1988, 1], [1989, 2], [1990, 1], [1991, 1], [1992, 2], [1993, 1], [1994, 0], [1995, 0], [1996, 1], [1997, 1], [1998, 0], [1999, 1], [2000, 2], [2001, 3], [2002, 2], [2003, 1], [2004, 0], [2005, 2], [2006, 1], [2007, 3], [2008, 0], [2009, 3], [2010, 1], [2011, 0], [2012, 1], [2013, 2], [2014, 1], [2015, 0], [2016, 1], [2017, 0], [2018, 1], [2019, 0], [2020, 1]]\n"
     ]
    }
   ],
   "source": [
    "for row in data:\n",
    "    for ya in attempts_per_year:\n",
    "        y=ya[0]\n",
    "        if row[0] == y:\n",
    "            ya[1] += 1\n",
    "print(attempts_per_year)"
   ]
  },
  {
   "cell_type": "markdown",
   "id": "101db044",
   "metadata": {
    "papermill": {
     "duration": 0.017475,
     "end_time": "2022-01-19T21:13:18.360613",
     "exception": false,
     "start_time": "2022-01-19T21:13:18.343138",
     "status": "completed"
    },
    "tags": []
   },
   "source": [
    "# Answering the questions"
   ]
  },
  {
   "cell_type": "markdown",
   "id": "010981af",
   "metadata": {
    "papermill": {
     "duration": 0.017223,
     "end_time": "2022-01-19T21:13:18.396817",
     "exception": false,
     "start_time": "2022-01-19T21:13:18.379594",
     "status": "completed"
    },
    "tags": []
   },
   "source": [
    "## In which year did the most attempts at breaking out of prison with a helicopter occur?"
   ]
  },
  {
   "cell_type": "code",
   "execution_count": 10,
   "id": "ff797ecc",
   "metadata": {
    "execution": {
     "iopub.execute_input": "2022-01-19T21:13:18.442260Z",
     "iopub.status.busy": "2022-01-19T21:13:18.441212Z",
     "iopub.status.idle": "2022-01-19T21:13:19.183500Z",
     "shell.execute_reply": "2022-01-19T21:13:19.184020Z",
     "shell.execute_reply.started": "2022-01-19T20:59:01.924202Z"
    },
    "papermill": {
     "duration": 0.77,
     "end_time": "2022-01-19T21:13:19.184193",
     "exception": false,
     "start_time": "2022-01-19T21:13:18.414193",
     "status": "completed"
    },
    "tags": []
   },
   "outputs": [
    {
     "data": {
      "image/png": "[encoded data removed]",
      "text/plain": [
       "<Figure size 648x1080 with 1 Axes>"
      ]
     },
     "metadata": {
      "needs_background": "light"
     },
     "output_type": "display_data"
    }
   ],
   "source": [
    "%matplotlib inline\n",
    "barplot(attempts_per_year)"
   ]
  },
  {
   "cell_type": "markdown",
   "id": "ce0ef86f",
   "metadata": {
    "papermill": {
     "duration": 0.018263,
     "end_time": "2022-01-19T21:13:19.221160",
     "exception": false,
     "start_time": "2022-01-19T21:13:19.202897",
     "status": "completed"
    },
    "tags": []
   },
   "source": [
    "## In which country did the most attempts at breaking out of prison with a helicopter occur?"
   ]
  },
  {
   "cell_type": "code",
   "execution_count": 11,
   "id": "f47fe4bc",
   "metadata": {
    "execution": {
     "iopub.execute_input": "2022-01-19T21:13:19.262441Z",
     "iopub.status.busy": "2022-01-19T21:13:19.261343Z",
     "iopub.status.idle": "2022-01-19T21:13:19.276058Z",
     "shell.execute_reply": "2022-01-19T21:13:19.276606Z",
     "shell.execute_reply.started": "2022-01-19T20:59:08.008207Z"
    },
    "papermill": {
     "duration": 0.036918,
     "end_time": "2022-01-19T21:13:19.276778",
     "exception": false,
     "start_time": "2022-01-19T21:13:19.239860",
     "status": "completed"
    },
    "tags": []
   },
   "outputs": [
    {
     "data": {
      "text/html": [
       "<table border=\"1\" class=\"dataframe\">\n",
       "  <thead>\n",
       "    <tr style=\"text-align: right;\">\n",
       "      <th>Country</th>\n",
       "      <th>Number of Occurrences</th>\n",
       "    </tr>\n",
       "  </thead>\n",
       "  <tbody>\n",
       "    <tr>\n",
       "      <td>France</td>\n",
       "      <td>15</td>\n",
       "    </tr>\n",
       "    <tr>\n",
       "      <td>United States</td>\n",
       "      <td>8</td>\n",
       "    </tr>\n",
       "    <tr>\n",
       "      <td>Canada</td>\n",
       "      <td>4</td>\n",
       "    </tr>\n",
       "    <tr>\n",
       "      <td>Greece</td>\n",
       "      <td>4</td>\n",
       "    </tr>\n",
       "    <tr>\n",
       "      <td>Belgium</td>\n",
       "      <td>4</td>\n",
       "    </tr>\n",
       "    <tr>\n",
       "      <td>Australia</td>\n",
       "      <td>2</td>\n",
       "    </tr>\n",
       "    <tr>\n",
       "      <td>Brazil</td>\n",
       "      <td>2</td>\n",
       "    </tr>\n",
       "    <tr>\n",
       "      <td>United Kingdom</td>\n",
       "      <td>2</td>\n",
       "    </tr>\n",
       "    <tr>\n",
       "      <td>Mexico</td>\n",
       "      <td>1</td>\n",
       "    </tr>\n",
       "    <tr>\n",
       "      <td>Ireland</td>\n",
       "      <td>1</td>\n",
       "    </tr>\n",
       "    <tr>\n",
       "      <td>Italy</td>\n",
       "      <td>1</td>\n",
       "    </tr>\n",
       "    <tr>\n",
       "      <td>Puerto Rico</td>\n",
       "      <td>1</td>\n",
       "    </tr>\n",
       "    <tr>\n",
       "      <td>Chile</td>\n",
       "      <td>1</td>\n",
       "    </tr>\n",
       "    <tr>\n",
       "      <td>Netherlands</td>\n",
       "      <td>1</td>\n",
       "    </tr>\n",
       "    <tr>\n",
       "      <td>Russia</td>\n",
       "      <td>1</td>\n",
       "    </tr>\n",
       "  </tbody>\n",
       "</table>"
      ],
      "text/plain": [
       "<IPython.core.display.HTML object>"
      ]
     },
     "metadata": {},
     "output_type": "display_data"
    }
   ],
   "source": [
    "countries_frequency = df[\"Country\"].value_counts()\n",
    "\n",
    "print_pretty_table(countries_frequency)"
   ]
  }
 ],
 "metadata": {
  "kernelspec": {
   "display_name": "Python 3",
   "language": "python",
   "name": "python3"
  },
  "language_info": {
   "codemirror_mode": {
    "name": "ipython",
    "version": 3
   },
   "file_extension": ".py",
   "mimetype": "text/x-python",
   "name": "python",
   "nbconvert_exporter": "python",
   "pygments_lexer": "ipython3",
   "version": "3.7.12"
  },
  "papermill": {
   "default_parameters": {},
   "duration": 14.718246,
   "end_time": "2022-01-19T21:13:19.904978",
   "environment_variables": {},
   "exception": null,
   "input_path": "__notebook__.ipynb",
   "output_path": "__notebook__.ipynb",
   "parameters": {},
   "start_time": "2022-01-19T21:13:05.186732",
   "version": "2.3.3"
  }
 },
 "nbformat": 4,
 "nbformat_minor": 5
}
